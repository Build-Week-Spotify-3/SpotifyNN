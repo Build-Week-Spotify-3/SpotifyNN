{
 "cells": [
  {
   "cell_type": "code",
   "execution_count": null,
   "metadata": {},
   "outputs": [],
   "source": []
  },
  {
   "cell_type": "code",
   "execution_count": 24,
   "metadata": {},
   "outputs": [],
   "source": [
    "import pandas as pd\n",
    "import tensorflow as tf\n",
    "import random as random\n",
    "import numpy as np\n",
    "#data_o = pd.read_csv(\"data_o.csv\")\n",
    "tracks = pd.read_csv(\"tracks.csv\")"
   ]
  },
  {
   "cell_type": "code",
   "execution_count": 2,
   "metadata": {},
   "outputs": [
    {
     "name": "stdout",
     "output_type": "stream",
     "text": [
      "   popularity  duration_ms  explicit  danceability  energy       key  \\\n",
      "0        0.06     0.022576       0.0      0.650858  0.4450  0.000000   \n",
      "1        0.00     0.017470       0.0      0.701312  0.2630  0.000000   \n",
      "2        0.00     0.032313       0.0      0.437941  0.1770  0.090909   \n",
      "3        0.00     0.031471       0.0      0.323915  0.0946  0.636364   \n",
      "4        0.00     0.029012       0.0      0.405651  0.1580  0.272727   \n",
      "\n",
      "   loudness  mode  speechiness  acousticness  instrumentalness  liveness  \\\n",
      "0  0.222300   1.0     0.464470      0.676707            0.7440     0.151   \n",
      "1  0.368933   1.0     0.985582      0.800201            0.0000     0.148   \n",
      "2  0.353000   1.0     0.052729      0.997992            0.0218     0.212   \n",
      "3  0.466017   1.0     0.051905      0.998996            0.9180     0.104   \n",
      "4  0.281667   0.0     0.040165      0.992972            0.1300     0.311   \n",
      "\n",
      "   valence     tempo  time_signature  \n",
      "0    0.127  0.425564             0.6  \n",
      "1    0.655  0.414029             0.2  \n",
      "2    0.457  0.529335             1.0  \n",
      "3    0.397  0.689907             0.6  \n",
      "4    0.196  0.418945             0.8  \n"
     ]
    }
   ],
   "source": [
    "def rough_clean(data):\n",
    "    out = data.dropna()    \n",
    "    out = out.drop([\"artists\",\"name\",\"release_date\",\"id_artists\",\"id\"],axis=1)\n",
    "    #out = out.describe(include=\"all\")\n",
    "    out[\"loudness\"]=-out[\"loudness\"]\n",
    "    for col in out:\n",
    "        out[col]=out[col]/out[col].max()\n",
    "    #out[\"duration_ms\"]=out[\"duration_ms\"]/out[\"duration_ms\"].max()\n",
    "    \n",
    "    return out\n",
    "X_train =rough_clean(tracks)\n",
    "#X_train=X_train.merge(tracks,on=\"id\")\n",
    "print(X_train.head())\n",
    "#print(X_train.head())\n",
    "#print(X_train.describe(include=\"all\"))\n"
   ]
  },
  {
   "cell_type": "code",
   "execution_count": 3,
   "metadata": {},
   "outputs": [],
   "source": [
    "latent_size=7\n",
    "#autoencoder\n",
    "n = tf.keras.layers.Input((15))\n",
    "h1 = tf.keras.layers.Dense(64)(n)\n",
    "h2 = tf.keras.layers.Dense(128)(h1)\n",
    "h3 = tf.keras.layers.Dense(64)(h2)\n",
    "latent = tf.keras.layers.Dense(latent_size)(h3)\n",
    "h4 = tf.keras.layers.Dense(64)(latent)\n",
    "h5 = tf.keras.layers.Dense(128)(h4)\n",
    "h6 = tf.keras.layers.Dense(64)(h5)\n",
    "o = tf.keras.layers.Dense(15)(h6)\n",
    "auto_enc = tf.keras.Model(inputs=n,outputs =o)\n",
    "auto_enc.compile(optimizer=tf.keras.optimizers.Adam(),loss= tf.keras.losses.MSE)"
   ]
  },
  {
   "cell_type": "code",
   "execution_count": 4,
   "metadata": {},
   "outputs": [
    {
     "name": "stdout",
     "output_type": "stream",
     "text": [
      "Epoch 1/2\n",
      "2292/2292 [==============================] - 27s 11ms/step - loss: 0.0085\n",
      "Epoch 2/2\n",
      "2292/2292 [==============================] - 24s 11ms/step - loss: 0.0075\n"
     ]
    },
    {
     "data": {
      "text/plain": [
       "<tensorflow.python.keras.callbacks.History at 0x7ff08bcc8240>"
      ]
     },
     "execution_count": 4,
     "metadata": {},
     "output_type": "execute_result"
    }
   ],
   "source": [
    "\n",
    "auto_enc.fit(X_train,X_train,batch_size=256,epochs=2)"
   ]
  },
  {
   "cell_type": "code",
   "execution_count": 99,
   "metadata": {},
   "outputs": [
    {
     "name": "stdout",
     "output_type": "stream",
     "text": [
      "Model: \"model_16\"\n",
      "_________________________________________________________________\n",
      "Layer (type)                 Output Shape              Param #   \n",
      "=================================================================\n",
      "input_1 (InputLayer)         [(None, 15)]              0         \n",
      "_________________________________________________________________\n",
      "dense (Dense)                (None, 64)                1024      \n",
      "_________________________________________________________________\n",
      "dense_1 (Dense)              (None, 128)               8320      \n",
      "_________________________________________________________________\n",
      "dense_2 (Dense)              (None, 64)                8256      \n",
      "_________________________________________________________________\n",
      "dense_3 (Dense)              (None, 7)                 455       \n",
      "_________________________________________________________________\n",
      "dense_40 (Dense)             (None, 7)                 56        \n",
      "_________________________________________________________________\n",
      "dense_41 (Dense)             (None, 586672)            4693376   \n",
      "=================================================================\n",
      "Total params: 4,711,487\n",
      "Trainable params: 4,693,432\n",
      "Non-trainable params: 18,055\n",
      "_________________________________________________________________\n"
     ]
    }
   ],
   "source": [
    "\n",
    "#Predictor\n",
    "\n",
    "import tensorflow.keras.backend as kb\n",
    "def custom_loss(y_actual,y_pred):\n",
    "    custom_loss=kb.relu(y_actual-y_pred)\n",
    "    return custom_loss\n",
    "\n",
    "pred_in = tf.keras.layers.Dense(latent_size)(latent)\n",
    "pred_out = tf.keras.layers.Dense(len(tracks),activation=\"softmax\")(pred_in)\n",
    "pred_model= tf.keras.Model(inputs = n, outputs = pred_out)\n",
    "pred_model.compile(optimizer=tf.keras.optimizers.Adam(),loss= custom_loss)\n",
    "pred_model.summary()\n",
    "pred_model.layers[0].trainable=False\n",
    "pred_model.layers[1].trainable=False\n",
    "pred_model.layers[2].trainable=False\n",
    "pred_model.layers[3].trainable=False\n",
    "pred_model.layers[4].trainable=False\n"
   ]
  },
  {
   "cell_type": "code",
   "execution_count": 71,
   "metadata": {},
   "outputs": [
    {
     "name": "stdout",
     "output_type": "stream",
     "text": [
      "[0. 0. 0. ... 0. 0. 0.]\n",
      "rate these songs -1=dislike,0=undecided,1=like\n",
      "How Can I Miss You When You Won't Go Away by Dan Hicks & His Hot Licks ?\n"
     ]
    },
    {
     "name": "stdin",
     "output_type": "stream",
     "text": [
      " 1\n"
     ]
    },
    {
     "name": "stdout",
     "output_type": "stream",
     "text": [
      "Party In Laguna by The Ventures ?\n"
     ]
    },
    {
     "name": "stdin",
     "output_type": "stream",
     "text": [
      " -1\n"
     ]
    },
    {
     "name": "stdout",
     "output_type": "stream",
     "text": [
      "String Quartet No. 6 in B-Flat Major, Op. 18: I. Allegro con brio by Ludwig van Beethoven ?\n"
     ]
    },
    {
     "name": "stdin",
     "output_type": "stream",
     "text": [
      " -1\n"
     ]
    },
    {
     "name": "stdout",
     "output_type": "stream",
     "text": [
      "Kau Dan Hatimu by Meriam Bellina ?\n"
     ]
    },
    {
     "name": "stdin",
     "output_type": "stream",
     "text": [
      " -1\n"
     ]
    },
    {
     "name": "stdout",
     "output_type": "stream",
     "text": [
      "Bitti Ama İz Bıraktı by Işıl German ?\n"
     ]
    },
    {
     "name": "stdin",
     "output_type": "stream",
     "text": [
      " -1\n"
     ]
    },
    {
     "name": "stdout",
     "output_type": "stream",
     "text": [
      "Senhorita by Zé Geraldo ?\n"
     ]
    },
    {
     "name": "stdin",
     "output_type": "stream",
     "text": [
      " -1\n"
     ]
    },
    {
     "name": "stdout",
     "output_type": "stream",
     "text": [
      "Kapitel 13 - als Bürgermeister (Folge 057) by Benjamin Blümchen ?\n"
     ]
    },
    {
     "name": "stdin",
     "output_type": "stream",
     "text": [
      " -1\n"
     ]
    },
    {
     "name": "stdout",
     "output_type": "stream",
     "text": [
      "Rx Queen by Deftones ?\n"
     ]
    },
    {
     "name": "stdin",
     "output_type": "stream",
     "text": [
      " 1\n"
     ]
    },
    {
     "name": "stdout",
     "output_type": "stream",
     "text": [
      "Wish I Had Not Said That by J.J. Cale ?\n"
     ]
    },
    {
     "name": "stdin",
     "output_type": "stream",
     "text": [
      " 0\n"
     ]
    },
    {
     "name": "stdout",
     "output_type": "stream",
     "text": [
      "Quiero by Dúo Hnos. Gaitán Castro ?\n"
     ]
    },
    {
     "name": "stdin",
     "output_type": "stream",
     "text": [
      " -1\n"
     ]
    }
   ],
   "source": [
    "# get some labels\n",
    "#picks = tracks.sample(2,axis=0).id\n",
    "picks = [random.randint(0,mx) for i in range(10)]\n",
    "\n",
    "#print (picks)\n",
    "#user_data = tracks[\"id\"].copy(deep=True)\n",
    "user_data = np.array(tf.zeros(len(tracks)))\n",
    "\n",
    "print (user_data)\n",
    "\n",
    "print(\"rate these songs -1=dislike,0=undecided,1=like\")\n",
    "\n",
    "for picknum in picks:\n",
    "    pick = tracks.iloc[picknum]\n",
    "    \n",
    "    #print(pick[\"name\"])\n",
    "    print(pick[\"name\"], \"by\" ,eval( pick[\"artists\"])[0] ,\"?\")    \n",
    "    like = input()\n",
    "    user_data[picknum]=int(like)\n",
    "    #if like ==\"y\":\n",
    "        \n",
    "    "
   ]
  },
  {
   "cell_type": "code",
   "execution_count": 72,
   "metadata": {},
   "outputs": [
    {
     "name": "stdout",
     "output_type": "stream",
     "text": [
      "[0. 0. 0. ... 0. 0. 0.]\n"
     ]
    }
   ],
   "source": [
    "print (user_data)"
   ]
  },
  {
   "cell_type": "code",
   "execution_count": 73,
   "metadata": {},
   "outputs": [],
   "source": [
    "def get_avg_liked_song_input(catalog_ratings):\n",
    "    indxs = np.where(catalog_ratings==1)[0]\n",
    "    #print(X_train.index,)\n",
    "    selected = X_train.iloc[indxs,:]\n",
    "    #print(selected)\n",
    "    o = selected.mean().to_list()\n",
    "    return o\n",
    "    \n",
    "X=get_avg_liked_song_input(user_data)"
   ]
  },
  {
   "cell_type": "code",
   "execution_count": 74,
   "metadata": {},
   "outputs": [],
   "source": [
    "X=np.array(X).reshape(1,-1)\n",
    "y = user_data.reshape(1,-1)"
   ]
  },
  {
   "cell_type": "code",
   "execution_count": 77,
   "metadata": {},
   "outputs": [
    {
     "name": "stdout",
     "output_type": "stream",
     "text": [
      "Epoch 1/5\n",
      "1/1 [==============================] - 0s 356ms/step - loss: 3.4091e-06\n",
      "Epoch 2/5\n",
      "1/1 [==============================] - 0s 10ms/step - loss: 3.4091e-06\n",
      "Epoch 3/5\n",
      "1/1 [==============================] - 0s 10ms/step - loss: 3.4091e-06\n",
      "Epoch 4/5\n",
      "1/1 [==============================] - 0s 11ms/step - loss: 3.4091e-06\n",
      "Epoch 5/5\n",
      "1/1 [==============================] - 0s 15ms/step - loss: 3.4091e-06\n"
     ]
    },
    {
     "data": {
      "text/plain": [
       "<tensorflow.python.keras.callbacks.History at 0x7fee6cda35f8>"
      ]
     },
     "execution_count": 77,
     "metadata": {},
     "output_type": "execute_result"
    }
   ],
   "source": [
    "pred_model.fit(X,y,epochs=5,verbose=1)"
   ]
  },
  {
   "cell_type": "code",
   "execution_count": 97,
   "metadata": {},
   "outputs": [
    {
     "name": "stdout",
     "output_type": "stream",
     "text": [
      "[1.7057442e-06 1.7054140e-06 1.7036723e-06 ... 1.7049464e-06 1.7041489e-06\n",
      " 1.7036321e-06]\n"
     ]
    },
    {
     "data": {
      "text/html": [
       "<div>\n",
       "<style scoped>\n",
       "    .dataframe tbody tr th:only-of-type {\n",
       "        vertical-align: middle;\n",
       "    }\n",
       "\n",
       "    .dataframe tbody tr th {\n",
       "        vertical-align: top;\n",
       "    }\n",
       "\n",
       "    .dataframe thead th {\n",
       "        text-align: right;\n",
       "    }\n",
       "</style>\n",
       "<table border=\"1\" class=\"dataframe\">\n",
       "  <thead>\n",
       "    <tr style=\"text-align: right;\">\n",
       "      <th></th>\n",
       "      <th>id</th>\n",
       "      <th>name</th>\n",
       "      <th>popularity</th>\n",
       "      <th>duration_ms</th>\n",
       "      <th>explicit</th>\n",
       "      <th>artists</th>\n",
       "      <th>id_artists</th>\n",
       "      <th>release_date</th>\n",
       "      <th>danceability</th>\n",
       "      <th>energy</th>\n",
       "      <th>key</th>\n",
       "      <th>loudness</th>\n",
       "      <th>mode</th>\n",
       "      <th>speechiness</th>\n",
       "      <th>acousticness</th>\n",
       "      <th>instrumentalness</th>\n",
       "      <th>liveness</th>\n",
       "      <th>valence</th>\n",
       "      <th>tempo</th>\n",
       "      <th>time_signature</th>\n",
       "    </tr>\n",
       "  </thead>\n",
       "  <tbody>\n",
       "    <tr>\n",
       "      <th>368456</th>\n",
       "      <td>0PXyajDPm37BR3FKvLJvKl</td>\n",
       "      <td>Ağlamak Yok Yüreğim</td>\n",
       "      <td>48</td>\n",
       "      <td>320587</td>\n",
       "      <td>0</td>\n",
       "      <td>['Hakan Altun']</td>\n",
       "      <td>['2AhmWHekrahJri4f5e08Tf']</td>\n",
       "      <td>2000-10-12</td>\n",
       "      <td>0.314</td>\n",
       "      <td>0.4830</td>\n",
       "      <td>1</td>\n",
       "      <td>-10.597</td>\n",
       "      <td>0</td>\n",
       "      <td>0.2860</td>\n",
       "      <td>0.4720</td>\n",
       "      <td>0.000000</td>\n",
       "      <td>0.3600</td>\n",
       "      <td>0.457</td>\n",
       "      <td>51.912</td>\n",
       "      <td>5</td>\n",
       "    </tr>\n",
       "    <tr>\n",
       "      <th>395576</th>\n",
       "      <td>1NNoHUz33GuEWgezNnX6kv</td>\n",
       "      <td>Portami con te</td>\n",
       "      <td>40</td>\n",
       "      <td>264104</td>\n",
       "      <td>0</td>\n",
       "      <td>[\"Gigi D'Alessio\"]</td>\n",
       "      <td>['4eSMsVzRJHhN1aq0IvZcyn']</td>\n",
       "      <td>1999-05-10</td>\n",
       "      <td>0.647</td>\n",
       "      <td>0.5040</td>\n",
       "      <td>11</td>\n",
       "      <td>-12.175</td>\n",
       "      <td>1</td>\n",
       "      <td>0.0424</td>\n",
       "      <td>0.1610</td>\n",
       "      <td>0.000000</td>\n",
       "      <td>0.0814</td>\n",
       "      <td>0.592</td>\n",
       "      <td>89.998</td>\n",
       "      <td>4</td>\n",
       "    </tr>\n",
       "    <tr>\n",
       "      <th>398573</th>\n",
       "      <td>54Jqsflm9eSeRludnzYEeq</td>\n",
       "      <td>Ancora, Ancora, Ancora - 2001 Remaster</td>\n",
       "      <td>44</td>\n",
       "      <td>258933</td>\n",
       "      <td>0</td>\n",
       "      <td>['Mina']</td>\n",
       "      <td>['3HL1CyOnDLFJo1Rr8YBlKy']</td>\n",
       "      <td>2015-03-31</td>\n",
       "      <td>0.553</td>\n",
       "      <td>0.4020</td>\n",
       "      <td>6</td>\n",
       "      <td>-12.070</td>\n",
       "      <td>0</td>\n",
       "      <td>0.0263</td>\n",
       "      <td>0.0674</td>\n",
       "      <td>0.000791</td>\n",
       "      <td>0.3210</td>\n",
       "      <td>0.448</td>\n",
       "      <td>100.397</td>\n",
       "      <td>4</td>\n",
       "    </tr>\n",
       "    <tr>\n",
       "      <th>569227</th>\n",
       "      <td>0S8YdZ8DAx5ddP17iwNxRL</td>\n",
       "      <td>Dzik</td>\n",
       "      <td>38</td>\n",
       "      <td>89600</td>\n",
       "      <td>0</td>\n",
       "      <td>['Śpiewanki']</td>\n",
       "      <td>['4Y9u2QBbh6L9gzAou7Naxb']</td>\n",
       "      <td>2016-09-12</td>\n",
       "      <td>0.946</td>\n",
       "      <td>0.4950</td>\n",
       "      <td>8</td>\n",
       "      <td>-8.529</td>\n",
       "      <td>0</td>\n",
       "      <td>0.0522</td>\n",
       "      <td>0.5550</td>\n",
       "      <td>0.000951</td>\n",
       "      <td>0.0969</td>\n",
       "      <td>0.854</td>\n",
       "      <td>112.048</td>\n",
       "      <td>4</td>\n",
       "    </tr>\n",
       "    <tr>\n",
       "      <th>181381</th>\n",
       "      <td>6r3tsJ746xXDzVVsWahGvD</td>\n",
       "      <td>Mr. Clean</td>\n",
       "      <td>35</td>\n",
       "      <td>207667</td>\n",
       "      <td>0</td>\n",
       "      <td>['The Jam']</td>\n",
       "      <td>['2P560DaOMNDUACoH8ZhOCR']</td>\n",
       "      <td>1978-11-03</td>\n",
       "      <td>0.552</td>\n",
       "      <td>0.3980</td>\n",
       "      <td>0</td>\n",
       "      <td>-13.239</td>\n",
       "      <td>1</td>\n",
       "      <td>0.0753</td>\n",
       "      <td>0.2920</td>\n",
       "      <td>0.007620</td>\n",
       "      <td>0.1130</td>\n",
       "      <td>0.481</td>\n",
       "      <td>120.519</td>\n",
       "      <td>4</td>\n",
       "    </tr>\n",
       "    <tr>\n",
       "      <th>237258</th>\n",
       "      <td>5xVvPI6JVOe94OAj0xQO7g</td>\n",
       "      <td>Todo Se Pagará</td>\n",
       "      <td>40</td>\n",
       "      <td>165080</td>\n",
       "      <td>0</td>\n",
       "      <td>['Malacates Trebol Shop']</td>\n",
       "      <td>['6Nc4k4Y5rX6YgnBsoXGJjG']</td>\n",
       "      <td>2009-03-14</td>\n",
       "      <td>0.756</td>\n",
       "      <td>0.8490</td>\n",
       "      <td>5</td>\n",
       "      <td>-4.643</td>\n",
       "      <td>1</td>\n",
       "      <td>0.0319</td>\n",
       "      <td>0.1280</td>\n",
       "      <td>0.000000</td>\n",
       "      <td>0.2710</td>\n",
       "      <td>0.960</td>\n",
       "      <td>107.987</td>\n",
       "      <td>4</td>\n",
       "    </tr>\n",
       "    <tr>\n",
       "      <th>56453</th>\n",
       "      <td>7JJa6W4aba4AjrZ59ehfTW</td>\n",
       "      <td>Postmand Per</td>\n",
       "      <td>38</td>\n",
       "      <td>205360</td>\n",
       "      <td>0</td>\n",
       "      <td>['Postmand Per']</td>\n",
       "      <td>['6BRsQCLg2BEWf4PbBuTb6c']</td>\n",
       "      <td>1982</td>\n",
       "      <td>0.680</td>\n",
       "      <td>0.5470</td>\n",
       "      <td>5</td>\n",
       "      <td>-11.614</td>\n",
       "      <td>1</td>\n",
       "      <td>0.0450</td>\n",
       "      <td>0.6180</td>\n",
       "      <td>0.000297</td>\n",
       "      <td>0.1350</td>\n",
       "      <td>0.787</td>\n",
       "      <td>98.214</td>\n",
       "      <td>4</td>\n",
       "    </tr>\n",
       "    <tr>\n",
       "      <th>345278</th>\n",
       "      <td>2BwcbeUQMWtrnTyLIPUoxs</td>\n",
       "      <td>West End Blues - Live</td>\n",
       "      <td>1</td>\n",
       "      <td>256800</td>\n",
       "      <td>0</td>\n",
       "      <td>['Louis Armstrong']</td>\n",
       "      <td>['19eLuQmk9aCobbVDHc6eek']</td>\n",
       "      <td>1955</td>\n",
       "      <td>0.389</td>\n",
       "      <td>0.4430</td>\n",
       "      <td>3</td>\n",
       "      <td>-12.412</td>\n",
       "      <td>1</td>\n",
       "      <td>0.3610</td>\n",
       "      <td>0.8300</td>\n",
       "      <td>0.051600</td>\n",
       "      <td>0.8930</td>\n",
       "      <td>0.436</td>\n",
       "      <td>70.965</td>\n",
       "      <td>4</td>\n",
       "    </tr>\n",
       "    <tr>\n",
       "      <th>84406</th>\n",
       "      <td>1OzDyg6a1lsukiBwArG7zI</td>\n",
       "      <td>Para Empezar</td>\n",
       "      <td>66</td>\n",
       "      <td>258733</td>\n",
       "      <td>0</td>\n",
       "      <td>['Leonel García']</td>\n",
       "      <td>['3t7UqWteBBmHXkcVhMSyay']</td>\n",
       "      <td>2011-01-25</td>\n",
       "      <td>0.624</td>\n",
       "      <td>0.3520</td>\n",
       "      <td>0</td>\n",
       "      <td>-8.286</td>\n",
       "      <td>1</td>\n",
       "      <td>0.0296</td>\n",
       "      <td>0.7540</td>\n",
       "      <td>0.000002</td>\n",
       "      <td>0.0907</td>\n",
       "      <td>0.226</td>\n",
       "      <td>135.992</td>\n",
       "      <td>4</td>\n",
       "    </tr>\n",
       "    <tr>\n",
       "      <th>25416</th>\n",
       "      <td>0iWwDuyFpXxZEKVI7mOOdX</td>\n",
       "      <td>Ansoo Thi Meri Zindagi</td>\n",
       "      <td>0</td>\n",
       "      <td>208613</td>\n",
       "      <td>0</td>\n",
       "      <td>['Amirbai Karnataki', 'Mohammed Rafi']</td>\n",
       "      <td>['025NPyHBtWC9aQM4STXI5V', '0gXDpqwYNDODn7fB0R...</td>\n",
       "      <td>1951-12-31</td>\n",
       "      <td>0.527</td>\n",
       "      <td>0.0955</td>\n",
       "      <td>8</td>\n",
       "      <td>-16.624</td>\n",
       "      <td>0</td>\n",
       "      <td>0.0337</td>\n",
       "      <td>0.9930</td>\n",
       "      <td>0.103000</td>\n",
       "      <td>0.4150</td>\n",
       "      <td>0.512</td>\n",
       "      <td>71.917</td>\n",
       "      <td>3</td>\n",
       "    </tr>\n",
       "  </tbody>\n",
       "</table>\n",
       "</div>"
      ],
      "text/plain": [
       "                            id                                    name  \\\n",
       "368456  0PXyajDPm37BR3FKvLJvKl                     Ağlamak Yok Yüreğim   \n",
       "395576  1NNoHUz33GuEWgezNnX6kv                          Portami con te   \n",
       "398573  54Jqsflm9eSeRludnzYEeq  Ancora, Ancora, Ancora - 2001 Remaster   \n",
       "569227  0S8YdZ8DAx5ddP17iwNxRL                                    Dzik   \n",
       "181381  6r3tsJ746xXDzVVsWahGvD                               Mr. Clean   \n",
       "237258  5xVvPI6JVOe94OAj0xQO7g                          Todo Se Pagará   \n",
       "56453   7JJa6W4aba4AjrZ59ehfTW                            Postmand Per   \n",
       "345278  2BwcbeUQMWtrnTyLIPUoxs                   West End Blues - Live   \n",
       "84406   1OzDyg6a1lsukiBwArG7zI                            Para Empezar   \n",
       "25416   0iWwDuyFpXxZEKVI7mOOdX                  Ansoo Thi Meri Zindagi   \n",
       "\n",
       "        popularity  duration_ms  explicit  \\\n",
       "368456          48       320587         0   \n",
       "395576          40       264104         0   \n",
       "398573          44       258933         0   \n",
       "569227          38        89600         0   \n",
       "181381          35       207667         0   \n",
       "237258          40       165080         0   \n",
       "56453           38       205360         0   \n",
       "345278           1       256800         0   \n",
       "84406           66       258733         0   \n",
       "25416            0       208613         0   \n",
       "\n",
       "                                       artists  \\\n",
       "368456                         ['Hakan Altun']   \n",
       "395576                      [\"Gigi D'Alessio\"]   \n",
       "398573                                ['Mina']   \n",
       "569227                           ['Śpiewanki']   \n",
       "181381                             ['The Jam']   \n",
       "237258               ['Malacates Trebol Shop']   \n",
       "56453                         ['Postmand Per']   \n",
       "345278                     ['Louis Armstrong']   \n",
       "84406                        ['Leonel García']   \n",
       "25416   ['Amirbai Karnataki', 'Mohammed Rafi']   \n",
       "\n",
       "                                               id_artists release_date  \\\n",
       "368456                         ['2AhmWHekrahJri4f5e08Tf']   2000-10-12   \n",
       "395576                         ['4eSMsVzRJHhN1aq0IvZcyn']   1999-05-10   \n",
       "398573                         ['3HL1CyOnDLFJo1Rr8YBlKy']   2015-03-31   \n",
       "569227                         ['4Y9u2QBbh6L9gzAou7Naxb']   2016-09-12   \n",
       "181381                         ['2P560DaOMNDUACoH8ZhOCR']   1978-11-03   \n",
       "237258                         ['6Nc4k4Y5rX6YgnBsoXGJjG']   2009-03-14   \n",
       "56453                          ['6BRsQCLg2BEWf4PbBuTb6c']         1982   \n",
       "345278                         ['19eLuQmk9aCobbVDHc6eek']         1955   \n",
       "84406                          ['3t7UqWteBBmHXkcVhMSyay']   2011-01-25   \n",
       "25416   ['025NPyHBtWC9aQM4STXI5V', '0gXDpqwYNDODn7fB0R...   1951-12-31   \n",
       "\n",
       "        danceability  energy  key  loudness  mode  speechiness  acousticness  \\\n",
       "368456         0.314  0.4830    1   -10.597     0       0.2860        0.4720   \n",
       "395576         0.647  0.5040   11   -12.175     1       0.0424        0.1610   \n",
       "398573         0.553  0.4020    6   -12.070     0       0.0263        0.0674   \n",
       "569227         0.946  0.4950    8    -8.529     0       0.0522        0.5550   \n",
       "181381         0.552  0.3980    0   -13.239     1       0.0753        0.2920   \n",
       "237258         0.756  0.8490    5    -4.643     1       0.0319        0.1280   \n",
       "56453          0.680  0.5470    5   -11.614     1       0.0450        0.6180   \n",
       "345278         0.389  0.4430    3   -12.412     1       0.3610        0.8300   \n",
       "84406          0.624  0.3520    0    -8.286     1       0.0296        0.7540   \n",
       "25416          0.527  0.0955    8   -16.624     0       0.0337        0.9930   \n",
       "\n",
       "        instrumentalness  liveness  valence    tempo  time_signature  \n",
       "368456          0.000000    0.3600    0.457   51.912               5  \n",
       "395576          0.000000    0.0814    0.592   89.998               4  \n",
       "398573          0.000791    0.3210    0.448  100.397               4  \n",
       "569227          0.000951    0.0969    0.854  112.048               4  \n",
       "181381          0.007620    0.1130    0.481  120.519               4  \n",
       "237258          0.000000    0.2710    0.960  107.987               4  \n",
       "56453           0.000297    0.1350    0.787   98.214               4  \n",
       "345278          0.051600    0.8930    0.436   70.965               4  \n",
       "84406           0.000002    0.0907    0.226  135.992               4  \n",
       "25416           0.103000    0.4150    0.512   71.917               3  "
      ]
     },
     "execution_count": 97,
     "metadata": {},
     "output_type": "execute_result"
    }
   ],
   "source": [
    "preds = pred_model.predict(X)[0]\n",
    "print (preds)\n",
    "top_10 = preds.argsort()[-10:][::-1]\n",
    "tracks.iloc[top_10,:]\n",
    "#print (np.where(preds>.0000011))\n"
   ]
  },
  {
   "cell_type": "code",
   "execution_count": null,
   "metadata": {},
   "outputs": [],
   "source": [
    "print (preds)\n"
   ]
  }
 ],
 "metadata": {
  "kernelspec": {
   "display_name": "Python 3",
   "language": "python",
   "name": "python3"
  },
  "language_info": {
   "codemirror_mode": {
    "name": "ipython",
    "version": 3
   },
   "file_extension": ".py",
   "mimetype": "text/x-python",
   "name": "python",
   "nbconvert_exporter": "python",
   "pygments_lexer": "ipython3",
   "version": "3.6.9"
  }
 },
 "nbformat": 4,
 "nbformat_minor": 4
}